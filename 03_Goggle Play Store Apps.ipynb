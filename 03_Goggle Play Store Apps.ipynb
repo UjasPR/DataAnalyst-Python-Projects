{
 "cells": [
  {
   "cell_type": "markdown",
   "id": "8050fd79",
   "metadata": {},
   "source": [
    "# Goggle Play Store Apps"
   ]
  },
  {
   "cell_type": "markdown",
   "id": "7ec55754-d310-408f-9830-e72fa3d89563",
   "metadata": {},
   "source": [
    "The Google Play Store apps dataset used in this analysis was obtained from Kaggle. It contains information such as app category, size, reviews, ratings, and more. "
   ]
  },
  {
   "cell_type": "markdown",
   "id": "13d32884-0ad0-4faf-92c3-7e98ac2ec8ea",
   "metadata": {},
   "source": [
    "### Data Exploration\n",
    "The analysis begins with Exploratory Data Analysis (EDA) to better understand the dataset. EDA tasks include:\n",
    "\n",
    "- Data visualization: Creating visualizations like bar charts, scatter plots, and histograms to understand the distribution and relationships between variables.\n",
    "- Statistical summaries: Calculating descriptive statistics, such as mean, median, and mode, to summarize numerical variables.\n",
    "- Category analysis: Analyzing app categories, their frequency, and ratings to identify popular categories and user preferences.\n",
    "- Data cleansing: Handling missing values, duplicates, and outliers to ensure data quality and accuracy."
   ]
  },
  {
   "cell_type": "markdown",
   "id": "aa1c37d0-4c2d-426a-a7e9-723de601f7bc",
   "metadata": {},
   "source": [
    "### Insights and Findings\n",
    "The EDA of the Google Play Store apps dataset yielded the following key insights:\n",
    "\n",
    "- Identification of the most popular app categories based on frequency and user ratings.\n",
    "- Understanding the distribution of app sizes, reviews, and ratings.\n",
    "- Detection and handling of missing values, duplicates, and outliers for improved data quality.<br>\n",
    "The findings provide valuable insights for app developers, marketers, and users to understand app trends, preferences, and quality.\n",
    "The basic steps involved during analysis are as follows:"
   ]
  },
  {
   "cell_type": "markdown",
   "id": "3d90ed9c",
   "metadata": {},
   "source": [
    "1. Display Top 5 Rows of The Dataset\n",
    "2. Check the Last 3 Rows of The Dataset\n",
    "3. Find Shape of Our Dataset (Number of Rows & Number of Columns)\n",
    "4. Get Information About Our Dataset Like Total Number Rows, Total Number of Columns, Datatypes of Each Column And Memory Requirement\n",
    "5. Get Overall Statistics About The Dataframe\n",
    "6. Total Number of App Titles Contain Astrology\n",
    "7. Find Average App Rating\n",
    "8.  Find Total Number of Unique Category\n",
    "9. Which Category Getting The Highest Average Rating?\n",
    "10. Find Total Number of App having 5 Star Rating\n",
    "11. Find Average Value of Reviews\n",
    "12. Find Total Number of Free and Paid Apps\n",
    "13.  Which App Has Maximum Reviews?\n",
    "14. Display Top 5 Apps Having Highest Reviews\n",
    "15. Find Average Rating of Free and Paid Apps\n",
    "16. Display Top  5 Apps Having Maximum Installs\n",
    "\n"
   ]
  },
  {
   "cell_type": "code",
   "execution_count": 1,
   "id": "b3f02e2e",
   "metadata": {},
   "outputs": [],
   "source": [
    "import pandas as pd\n",
    "import numpy as np\n",
    "import seaborn as sns\n",
    "import matplotlib.pyplot as plt"
   ]
  },
  {
   "cell_type": "code",
   "execution_count": 2,
   "id": "10832e55",
   "metadata": {},
   "outputs": [],
   "source": [
    "df=pd.read_csv('Datasets/Google Play Store Apps/googleplaystore.csv',parse_dates=['Last Updated'])"
   ]
  },
  {
   "cell_type": "code",
   "execution_count": 3,
   "id": "a355f789",
   "metadata": {},
   "outputs": [
    {
     "data": {
      "text/html": [
       "<div>\n",
       "<style scoped>\n",
       "    .dataframe tbody tr th:only-of-type {\n",
       "        vertical-align: middle;\n",
       "    }\n",
       "\n",
       "    .dataframe tbody tr th {\n",
       "        vertical-align: top;\n",
       "    }\n",
       "\n",
       "    .dataframe thead th {\n",
       "        text-align: right;\n",
       "    }\n",
       "</style>\n",
       "<table border=\"1\" class=\"dataframe\">\n",
       "  <thead>\n",
       "    <tr style=\"text-align: right;\">\n",
       "      <th></th>\n",
       "      <th>App</th>\n",
       "      <th>Category</th>\n",
       "      <th>Rating</th>\n",
       "      <th>Reviews</th>\n",
       "      <th>Size</th>\n",
       "      <th>Installs</th>\n",
       "      <th>Type</th>\n",
       "      <th>Price</th>\n",
       "      <th>Content Rating</th>\n",
       "      <th>Genres</th>\n",
       "      <th>Last Updated</th>\n",
       "      <th>Current Ver</th>\n",
       "      <th>Android Ver</th>\n",
       "    </tr>\n",
       "  </thead>\n",
       "  <tbody>\n",
       "    <tr>\n",
       "      <th>0</th>\n",
       "      <td>Photo Editor &amp; Candy Camera &amp; Grid &amp; ScrapBook</td>\n",
       "      <td>ART_AND_DESIGN</td>\n",
       "      <td>4.1</td>\n",
       "      <td>159</td>\n",
       "      <td>19M</td>\n",
       "      <td>10,000+</td>\n",
       "      <td>Free</td>\n",
       "      <td>0</td>\n",
       "      <td>Everyone</td>\n",
       "      <td>Art &amp; Design</td>\n",
       "      <td>January 7, 2018</td>\n",
       "      <td>1.0.0</td>\n",
       "      <td>4.0.3 and up</td>\n",
       "    </tr>\n",
       "    <tr>\n",
       "      <th>1</th>\n",
       "      <td>Coloring book moana</td>\n",
       "      <td>ART_AND_DESIGN</td>\n",
       "      <td>3.9</td>\n",
       "      <td>967</td>\n",
       "      <td>14M</td>\n",
       "      <td>500,000+</td>\n",
       "      <td>Free</td>\n",
       "      <td>0</td>\n",
       "      <td>Everyone</td>\n",
       "      <td>Art &amp; Design;Pretend Play</td>\n",
       "      <td>January 15, 2018</td>\n",
       "      <td>2.0.0</td>\n",
       "      <td>4.0.3 and up</td>\n",
       "    </tr>\n",
       "    <tr>\n",
       "      <th>2</th>\n",
       "      <td>U Launcher Lite – FREE Live Cool Themes, Hide ...</td>\n",
       "      <td>ART_AND_DESIGN</td>\n",
       "      <td>4.7</td>\n",
       "      <td>87510</td>\n",
       "      <td>8.7M</td>\n",
       "      <td>5,000,000+</td>\n",
       "      <td>Free</td>\n",
       "      <td>0</td>\n",
       "      <td>Everyone</td>\n",
       "      <td>Art &amp; Design</td>\n",
       "      <td>August 1, 2018</td>\n",
       "      <td>1.2.4</td>\n",
       "      <td>4.0.3 and up</td>\n",
       "    </tr>\n",
       "    <tr>\n",
       "      <th>3</th>\n",
       "      <td>Sketch - Draw &amp; Paint</td>\n",
       "      <td>ART_AND_DESIGN</td>\n",
       "      <td>4.5</td>\n",
       "      <td>215644</td>\n",
       "      <td>25M</td>\n",
       "      <td>50,000,000+</td>\n",
       "      <td>Free</td>\n",
       "      <td>0</td>\n",
       "      <td>Teen</td>\n",
       "      <td>Art &amp; Design</td>\n",
       "      <td>June 8, 2018</td>\n",
       "      <td>Varies with device</td>\n",
       "      <td>4.2 and up</td>\n",
       "    </tr>\n",
       "    <tr>\n",
       "      <th>4</th>\n",
       "      <td>Pixel Draw - Number Art Coloring Book</td>\n",
       "      <td>ART_AND_DESIGN</td>\n",
       "      <td>4.3</td>\n",
       "      <td>967</td>\n",
       "      <td>2.8M</td>\n",
       "      <td>100,000+</td>\n",
       "      <td>Free</td>\n",
       "      <td>0</td>\n",
       "      <td>Everyone</td>\n",
       "      <td>Art &amp; Design;Creativity</td>\n",
       "      <td>June 20, 2018</td>\n",
       "      <td>1.1</td>\n",
       "      <td>4.4 and up</td>\n",
       "    </tr>\n",
       "  </tbody>\n",
       "</table>\n",
       "</div>"
      ],
      "text/plain": [
       "                                                 App        Category  Rating  \\\n",
       "0     Photo Editor & Candy Camera & Grid & ScrapBook  ART_AND_DESIGN     4.1   \n",
       "1                                Coloring book moana  ART_AND_DESIGN     3.9   \n",
       "2  U Launcher Lite – FREE Live Cool Themes, Hide ...  ART_AND_DESIGN     4.7   \n",
       "3                              Sketch - Draw & Paint  ART_AND_DESIGN     4.5   \n",
       "4              Pixel Draw - Number Art Coloring Book  ART_AND_DESIGN     4.3   \n",
       "\n",
       "  Reviews  Size     Installs  Type Price Content Rating  \\\n",
       "0     159   19M      10,000+  Free     0       Everyone   \n",
       "1     967   14M     500,000+  Free     0       Everyone   \n",
       "2   87510  8.7M   5,000,000+  Free     0       Everyone   \n",
       "3  215644   25M  50,000,000+  Free     0           Teen   \n",
       "4     967  2.8M     100,000+  Free     0       Everyone   \n",
       "\n",
       "                      Genres      Last Updated         Current Ver  \\\n",
       "0               Art & Design   January 7, 2018               1.0.0   \n",
       "1  Art & Design;Pretend Play  January 15, 2018               2.0.0   \n",
       "2               Art & Design    August 1, 2018               1.2.4   \n",
       "3               Art & Design      June 8, 2018  Varies with device   \n",
       "4    Art & Design;Creativity     June 20, 2018                 1.1   \n",
       "\n",
       "    Android Ver  \n",
       "0  4.0.3 and up  \n",
       "1  4.0.3 and up  \n",
       "2  4.0.3 and up  \n",
       "3    4.2 and up  \n",
       "4    4.4 and up  "
      ]
     },
     "execution_count": 3,
     "metadata": {},
     "output_type": "execute_result"
    }
   ],
   "source": [
    "df.head()"
   ]
  },
  {
   "cell_type": "code",
   "execution_count": 4,
   "id": "f0e6d3f8",
   "metadata": {},
   "outputs": [
    {
     "data": {
      "text/html": [
       "<div>\n",
       "<style scoped>\n",
       "    .dataframe tbody tr th:only-of-type {\n",
       "        vertical-align: middle;\n",
       "    }\n",
       "\n",
       "    .dataframe tbody tr th {\n",
       "        vertical-align: top;\n",
       "    }\n",
       "\n",
       "    .dataframe thead th {\n",
       "        text-align: right;\n",
       "    }\n",
       "</style>\n",
       "<table border=\"1\" class=\"dataframe\">\n",
       "  <thead>\n",
       "    <tr style=\"text-align: right;\">\n",
       "      <th></th>\n",
       "      <th>App</th>\n",
       "      <th>Category</th>\n",
       "      <th>Rating</th>\n",
       "      <th>Reviews</th>\n",
       "      <th>Size</th>\n",
       "      <th>Installs</th>\n",
       "      <th>Type</th>\n",
       "      <th>Price</th>\n",
       "      <th>Content Rating</th>\n",
       "      <th>Genres</th>\n",
       "      <th>Last Updated</th>\n",
       "      <th>Current Ver</th>\n",
       "      <th>Android Ver</th>\n",
       "    </tr>\n",
       "  </thead>\n",
       "  <tbody>\n",
       "    <tr>\n",
       "      <th>10838</th>\n",
       "      <td>Parkinson Exercices FR</td>\n",
       "      <td>MEDICAL</td>\n",
       "      <td>NaN</td>\n",
       "      <td>3</td>\n",
       "      <td>9.5M</td>\n",
       "      <td>1,000+</td>\n",
       "      <td>Free</td>\n",
       "      <td>0</td>\n",
       "      <td>Everyone</td>\n",
       "      <td>Medical</td>\n",
       "      <td>January 20, 2017</td>\n",
       "      <td>1.0</td>\n",
       "      <td>2.2 and up</td>\n",
       "    </tr>\n",
       "    <tr>\n",
       "      <th>10839</th>\n",
       "      <td>The SCP Foundation DB fr nn5n</td>\n",
       "      <td>BOOKS_AND_REFERENCE</td>\n",
       "      <td>4.5</td>\n",
       "      <td>114</td>\n",
       "      <td>Varies with device</td>\n",
       "      <td>1,000+</td>\n",
       "      <td>Free</td>\n",
       "      <td>0</td>\n",
       "      <td>Mature 17+</td>\n",
       "      <td>Books &amp; Reference</td>\n",
       "      <td>January 19, 2015</td>\n",
       "      <td>Varies with device</td>\n",
       "      <td>Varies with device</td>\n",
       "    </tr>\n",
       "    <tr>\n",
       "      <th>10840</th>\n",
       "      <td>iHoroscope - 2018 Daily Horoscope &amp; Astrology</td>\n",
       "      <td>LIFESTYLE</td>\n",
       "      <td>4.5</td>\n",
       "      <td>398307</td>\n",
       "      <td>19M</td>\n",
       "      <td>10,000,000+</td>\n",
       "      <td>Free</td>\n",
       "      <td>0</td>\n",
       "      <td>Everyone</td>\n",
       "      <td>Lifestyle</td>\n",
       "      <td>July 25, 2018</td>\n",
       "      <td>Varies with device</td>\n",
       "      <td>Varies with device</td>\n",
       "    </tr>\n",
       "  </tbody>\n",
       "</table>\n",
       "</div>"
      ],
      "text/plain": [
       "                                                 App             Category  \\\n",
       "10838                         Parkinson Exercices FR              MEDICAL   \n",
       "10839                  The SCP Foundation DB fr nn5n  BOOKS_AND_REFERENCE   \n",
       "10840  iHoroscope - 2018 Daily Horoscope & Astrology            LIFESTYLE   \n",
       "\n",
       "       Rating Reviews                Size     Installs  Type Price  \\\n",
       "10838     NaN       3                9.5M       1,000+  Free     0   \n",
       "10839     4.5     114  Varies with device       1,000+  Free     0   \n",
       "10840     4.5  398307                 19M  10,000,000+  Free     0   \n",
       "\n",
       "      Content Rating             Genres      Last Updated         Current Ver  \\\n",
       "10838       Everyone            Medical  January 20, 2017                 1.0   \n",
       "10839     Mature 17+  Books & Reference  January 19, 2015  Varies with device   \n",
       "10840       Everyone          Lifestyle     July 25, 2018  Varies with device   \n",
       "\n",
       "              Android Ver  \n",
       "10838          2.2 and up  \n",
       "10839  Varies with device  \n",
       "10840  Varies with device  "
      ]
     },
     "execution_count": 4,
     "metadata": {},
     "output_type": "execute_result"
    }
   ],
   "source": [
    "df.tail(3)"
   ]
  },
  {
   "cell_type": "code",
   "execution_count": 5,
   "id": "58beda06",
   "metadata": {},
   "outputs": [
    {
     "data": {
      "text/plain": [
       "'Size'"
      ]
     },
     "execution_count": 5,
     "metadata": {},
     "output_type": "execute_result"
    }
   ],
   "source": [
    "list(df)[4]"
   ]
  },
  {
   "cell_type": "code",
   "execution_count": 6,
   "id": "30870e91",
   "metadata": {},
   "outputs": [
    {
     "data": {
      "text/plain": [
       "'Size'"
      ]
     },
     "execution_count": 6,
     "metadata": {},
     "output_type": "execute_result"
    }
   ],
   "source": [
    "df.keys()[4]"
   ]
  },
  {
   "cell_type": "code",
   "execution_count": 7,
   "id": "27915ede",
   "metadata": {},
   "outputs": [
    {
     "data": {
      "text/plain": [
       "'Size'"
      ]
     },
     "execution_count": 7,
     "metadata": {},
     "output_type": "execute_result"
    }
   ],
   "source": [
    "list(df.columns.values.tolist())[4]"
   ]
  },
  {
   "cell_type": "code",
   "execution_count": 8,
   "id": "f1ca98a8",
   "metadata": {},
   "outputs": [],
   "source": [
    "#pd.DataFrame(df)[4]"
   ]
  },
  {
   "cell_type": "code",
   "execution_count": 9,
   "id": "0da302bb",
   "metadata": {},
   "outputs": [
    {
     "data": {
      "text/plain": [
       "App                object\n",
       "Category           object\n",
       "Rating            float64\n",
       "Reviews            object\n",
       "Size               object\n",
       "Installs           object\n",
       "Type               object\n",
       "Price              object\n",
       "Content Rating     object\n",
       "Genres             object\n",
       "Last Updated       object\n",
       "Current Ver        object\n",
       "Android Ver        object\n",
       "dtype: object"
      ]
     },
     "execution_count": 9,
     "metadata": {},
     "output_type": "execute_result"
    }
   ],
   "source": [
    "df.dtypes"
   ]
  },
  {
   "cell_type": "code",
   "execution_count": 10,
   "id": "44a0f656",
   "metadata": {},
   "outputs": [
    {
     "data": {
      "text/plain": [
       "Index(['App', 'Category', 'Rating', 'Reviews', 'Size', 'Installs', 'Type',\n",
       "       'Price', 'Content Rating', 'Genres', 'Last Updated', 'Current Ver',\n",
       "       'Android Ver'],\n",
       "      dtype='object')"
      ]
     },
     "execution_count": 10,
     "metadata": {},
     "output_type": "execute_result"
    }
   ],
   "source": [
    "df.columns"
   ]
  },
  {
   "cell_type": "code",
   "execution_count": 11,
   "id": "e18289cb",
   "metadata": {},
   "outputs": [
    {
     "name": "stdout",
     "output_type": "stream",
     "text": [
      "The number of rows 10841\n",
      "The number of cols 13\n"
     ]
    }
   ],
   "source": [
    "print(\"The number of rows\",df.shape[0])\n",
    "print(\"The number of cols\",df.shape[1])"
   ]
  },
  {
   "cell_type": "code",
   "execution_count": 12,
   "id": "094ef5bb",
   "metadata": {},
   "outputs": [
    {
     "name": "stdout",
     "output_type": "stream",
     "text": [
      "<class 'pandas.core.frame.DataFrame'>\n",
      "RangeIndex: 10841 entries, 0 to 10840\n",
      "Data columns (total 13 columns):\n",
      " #   Column          Non-Null Count  Dtype  \n",
      "---  ------          --------------  -----  \n",
      " 0   App             10841 non-null  object \n",
      " 1   Category        10841 non-null  object \n",
      " 2   Rating          9367 non-null   float64\n",
      " 3   Reviews         10841 non-null  object \n",
      " 4   Size            10841 non-null  object \n",
      " 5   Installs        10841 non-null  object \n",
      " 6   Type            10840 non-null  object \n",
      " 7   Price           10841 non-null  object \n",
      " 8   Content Rating  10840 non-null  object \n",
      " 9   Genres          10841 non-null  object \n",
      " 10  Last Updated    10841 non-null  object \n",
      " 11  Current Ver     10833 non-null  object \n",
      " 12  Android Ver     10838 non-null  object \n",
      "dtypes: float64(1), object(12)\n",
      "memory usage: 1.1+ MB\n"
     ]
    }
   ],
   "source": [
    "df.info()"
   ]
  },
  {
   "cell_type": "code",
   "execution_count": 13,
   "id": "687b3610",
   "metadata": {},
   "outputs": [
    {
     "data": {
      "text/html": [
       "<div>\n",
       "<style scoped>\n",
       "    .dataframe tbody tr th:only-of-type {\n",
       "        vertical-align: middle;\n",
       "    }\n",
       "\n",
       "    .dataframe tbody tr th {\n",
       "        vertical-align: top;\n",
       "    }\n",
       "\n",
       "    .dataframe thead th {\n",
       "        text-align: right;\n",
       "    }\n",
       "</style>\n",
       "<table border=\"1\" class=\"dataframe\">\n",
       "  <thead>\n",
       "    <tr style=\"text-align: right;\">\n",
       "      <th></th>\n",
       "      <th>Rating</th>\n",
       "    </tr>\n",
       "  </thead>\n",
       "  <tbody>\n",
       "    <tr>\n",
       "      <th>count</th>\n",
       "      <td>9367.000000</td>\n",
       "    </tr>\n",
       "    <tr>\n",
       "      <th>mean</th>\n",
       "      <td>4.193338</td>\n",
       "    </tr>\n",
       "    <tr>\n",
       "      <th>std</th>\n",
       "      <td>0.537431</td>\n",
       "    </tr>\n",
       "    <tr>\n",
       "      <th>min</th>\n",
       "      <td>1.000000</td>\n",
       "    </tr>\n",
       "    <tr>\n",
       "      <th>25%</th>\n",
       "      <td>4.000000</td>\n",
       "    </tr>\n",
       "    <tr>\n",
       "      <th>50%</th>\n",
       "      <td>4.300000</td>\n",
       "    </tr>\n",
       "    <tr>\n",
       "      <th>75%</th>\n",
       "      <td>4.500000</td>\n",
       "    </tr>\n",
       "    <tr>\n",
       "      <th>max</th>\n",
       "      <td>19.000000</td>\n",
       "    </tr>\n",
       "  </tbody>\n",
       "</table>\n",
       "</div>"
      ],
      "text/plain": [
       "            Rating\n",
       "count  9367.000000\n",
       "mean      4.193338\n",
       "std       0.537431\n",
       "min       1.000000\n",
       "25%       4.000000\n",
       "50%       4.300000\n",
       "75%       4.500000\n",
       "max      19.000000"
      ]
     },
     "execution_count": 13,
     "metadata": {},
     "output_type": "execute_result"
    }
   ],
   "source": [
    "df.describe()"
   ]
  },
  {
   "cell_type": "markdown",
   "id": "2949c5dd",
   "metadata": {},
   "source": [
    "6. Total Number of App Titles Contain Astrology\n",
    "7. Find Average App Rating\n",
    "8.  Find Total Number of Unique Category"
   ]
  },
  {
   "cell_type": "code",
   "execution_count": 14,
   "id": "6305416c",
   "metadata": {},
   "outputs": [
    {
     "data": {
      "text/html": [
       "<div>\n",
       "<style scoped>\n",
       "    .dataframe tbody tr th:only-of-type {\n",
       "        vertical-align: middle;\n",
       "    }\n",
       "\n",
       "    .dataframe tbody tr th {\n",
       "        vertical-align: top;\n",
       "    }\n",
       "\n",
       "    .dataframe thead th {\n",
       "        text-align: right;\n",
       "    }\n",
       "</style>\n",
       "<table border=\"1\" class=\"dataframe\">\n",
       "  <thead>\n",
       "    <tr style=\"text-align: right;\">\n",
       "      <th></th>\n",
       "      <th>App</th>\n",
       "      <th>Category</th>\n",
       "      <th>Rating</th>\n",
       "      <th>Reviews</th>\n",
       "      <th>Size</th>\n",
       "      <th>Installs</th>\n",
       "      <th>Type</th>\n",
       "      <th>Price</th>\n",
       "      <th>Content Rating</th>\n",
       "      <th>Genres</th>\n",
       "      <th>Last Updated</th>\n",
       "      <th>Current Ver</th>\n",
       "      <th>Android Ver</th>\n",
       "    </tr>\n",
       "  </thead>\n",
       "  <tbody>\n",
       "    <tr>\n",
       "      <th>0</th>\n",
       "      <td>Photo Editor &amp; Candy Camera &amp; Grid &amp; ScrapBook</td>\n",
       "      <td>ART_AND_DESIGN</td>\n",
       "      <td>4.1</td>\n",
       "      <td>159</td>\n",
       "      <td>19M</td>\n",
       "      <td>10,000+</td>\n",
       "      <td>Free</td>\n",
       "      <td>0</td>\n",
       "      <td>Everyone</td>\n",
       "      <td>Art &amp; Design</td>\n",
       "      <td>January 7, 2018</td>\n",
       "      <td>1.0.0</td>\n",
       "      <td>4.0.3 and up</td>\n",
       "    </tr>\n",
       "  </tbody>\n",
       "</table>\n",
       "</div>"
      ],
      "text/plain": [
       "                                              App        Category  Rating  \\\n",
       "0  Photo Editor & Candy Camera & Grid & ScrapBook  ART_AND_DESIGN     4.1   \n",
       "\n",
       "  Reviews Size Installs  Type Price Content Rating        Genres  \\\n",
       "0     159  19M  10,000+  Free     0       Everyone  Art & Design   \n",
       "\n",
       "      Last Updated Current Ver   Android Ver  \n",
       "0  January 7, 2018       1.0.0  4.0.3 and up  "
      ]
     },
     "execution_count": 14,
     "metadata": {},
     "output_type": "execute_result"
    }
   ],
   "source": [
    "df.head(1)"
   ]
  },
  {
   "cell_type": "code",
   "execution_count": 15,
   "id": "7b066940",
   "metadata": {},
   "outputs": [
    {
     "data": {
      "text/plain": [
       "Index(['App', 'Category', 'Rating', 'Reviews', 'Size', 'Installs', 'Type',\n",
       "       'Price', 'Content Rating', 'Genres', 'Last Updated', 'Current Ver',\n",
       "       'Android Ver'],\n",
       "      dtype='object')"
      ]
     },
     "execution_count": 15,
     "metadata": {},
     "output_type": "execute_result"
    }
   ],
   "source": [
    "df.columns"
   ]
  },
  {
   "cell_type": "code",
   "execution_count": 16,
   "id": "a8a4ec68",
   "metadata": {},
   "outputs": [
    {
     "data": {
      "text/plain": [
       "3"
      ]
     },
     "execution_count": 16,
     "metadata": {},
     "output_type": "execute_result"
    }
   ],
   "source": [
    "len(df[df['App'].str.contains(\"Astrology\",case=False)])"
   ]
  },
  {
   "cell_type": "code",
   "execution_count": 17,
   "id": "0e2265bb",
   "metadata": {},
   "outputs": [
    {
     "data": {
      "text/plain": [
       "4.193338315362443"
      ]
     },
     "execution_count": 17,
     "metadata": {},
     "output_type": "execute_result"
    }
   ],
   "source": [
    "df['Rating'].mean()"
   ]
  },
  {
   "cell_type": "code",
   "execution_count": 18,
   "id": "3fa5077a",
   "metadata": {},
   "outputs": [
    {
     "data": {
      "text/plain": [
       "34"
      ]
     },
     "execution_count": 18,
     "metadata": {},
     "output_type": "execute_result"
    }
   ],
   "source": [
    "len(df['Category'].unique())"
   ]
  },
  {
   "cell_type": "code",
   "execution_count": 19,
   "id": "1a8c7396",
   "metadata": {},
   "outputs": [
    {
     "data": {
      "text/plain": [
       "34"
      ]
     },
     "execution_count": 19,
     "metadata": {},
     "output_type": "execute_result"
    }
   ],
   "source": [
    "df['Category'].nunique()"
   ]
  },
  {
   "cell_type": "markdown",
   "id": "188a351e",
   "metadata": {},
   "source": [
    "9. Which Category Getting The Highest Average Rating?"
   ]
  },
  {
   "cell_type": "code",
   "execution_count": 20,
   "id": "7b9b7e81",
   "metadata": {},
   "outputs": [
    {
     "data": {
      "text/plain": [
       "Category\n",
       "1.9                    19.000000\n",
       "EVENTS                  4.435556\n",
       "EDUCATION               4.389032\n",
       "ART_AND_DESIGN          4.358065\n",
       "BOOKS_AND_REFERENCE     4.346067\n",
       "PERSONALIZATION         4.335987\n",
       "PARENTING               4.300000\n",
       "GAME                    4.286326\n",
       "BEAUTY                  4.278571\n",
       "HEALTH_AND_FITNESS      4.277104\n",
       "SHOPPING                4.259664\n",
       "SOCIAL                  4.255598\n",
       "WEATHER                 4.244000\n",
       "SPORTS                  4.223511\n",
       "PRODUCTIVITY            4.211396\n",
       "HOUSE_AND_HOME          4.197368\n",
       "FAMILY                  4.192272\n",
       "PHOTOGRAPHY             4.192114\n",
       "AUTO_AND_VEHICLES       4.190411\n",
       "MEDICAL                 4.189143\n",
       "LIBRARIES_AND_DEMO      4.178462\n",
       "FOOD_AND_DRINK          4.166972\n",
       "COMMUNICATION           4.158537\n",
       "COMICS                  4.155172\n",
       "NEWS_AND_MAGAZINES      4.132189\n",
       "FINANCE                 4.131889\n",
       "ENTERTAINMENT           4.126174\n",
       "BUSINESS                4.121452\n",
       "TRAVEL_AND_LOCAL        4.109292\n",
       "LIFESTYLE               4.094904\n",
       "VIDEO_PLAYERS           4.063750\n",
       "MAPS_AND_NAVIGATION     4.051613\n",
       "TOOLS                   4.047411\n",
       "DATING                  3.970769\n",
       "Name: Rating, dtype: float64"
      ]
     },
     "execution_count": 20,
     "metadata": {},
     "output_type": "execute_result"
    }
   ],
   "source": [
    "df.groupby(\"Category\")[\"Rating\"].mean().sort_values(ascending=False)"
   ]
  },
  {
   "cell_type": "markdown",
   "id": "b34e76a6",
   "metadata": {},
   "source": [
    "10. Find Total Number of App having 5 Star Rating\n",
    "11. Find Average Value of Reviews"
   ]
  },
  {
   "cell_type": "code",
   "execution_count": 21,
   "id": "a78ce7e4",
   "metadata": {},
   "outputs": [
    {
     "data": {
      "text/plain": [
       "274"
      ]
     },
     "execution_count": 21,
     "metadata": {},
     "output_type": "execute_result"
    }
   ],
   "source": [
    "len(df[df[\"Rating\"]==5.0][\"App\"])"
   ]
  },
  {
   "cell_type": "code",
   "execution_count": 22,
   "id": "57d0465e",
   "metadata": {},
   "outputs": [
    {
     "data": {
      "text/html": [
       "<div>\n",
       "<style scoped>\n",
       "    .dataframe tbody tr th:only-of-type {\n",
       "        vertical-align: middle;\n",
       "    }\n",
       "\n",
       "    .dataframe tbody tr th {\n",
       "        vertical-align: top;\n",
       "    }\n",
       "\n",
       "    .dataframe thead th {\n",
       "        text-align: right;\n",
       "    }\n",
       "</style>\n",
       "<table border=\"1\" class=\"dataframe\">\n",
       "  <thead>\n",
       "    <tr style=\"text-align: right;\">\n",
       "      <th></th>\n",
       "      <th>App</th>\n",
       "      <th>Category</th>\n",
       "      <th>Rating</th>\n",
       "      <th>Reviews</th>\n",
       "      <th>Size</th>\n",
       "      <th>Installs</th>\n",
       "      <th>Type</th>\n",
       "      <th>Price</th>\n",
       "      <th>Content Rating</th>\n",
       "      <th>Genres</th>\n",
       "      <th>Last Updated</th>\n",
       "      <th>Current Ver</th>\n",
       "      <th>Android Ver</th>\n",
       "    </tr>\n",
       "  </thead>\n",
       "  <tbody>\n",
       "    <tr>\n",
       "      <th>10472</th>\n",
       "      <td>Life Made WI-Fi Touchscreen Photo Frame</td>\n",
       "      <td>1.9</td>\n",
       "      <td>19.0</td>\n",
       "      <td>3.0M</td>\n",
       "      <td>1,000+</td>\n",
       "      <td>Free</td>\n",
       "      <td>0</td>\n",
       "      <td>Everyone</td>\n",
       "      <td>NaN</td>\n",
       "      <td>February 11, 2018</td>\n",
       "      <td>1.0.19</td>\n",
       "      <td>4.0 and up</td>\n",
       "      <td>NaN</td>\n",
       "    </tr>\n",
       "  </tbody>\n",
       "</table>\n",
       "</div>"
      ],
      "text/plain": [
       "                                           App Category  Rating Reviews  \\\n",
       "10472  Life Made WI-Fi Touchscreen Photo Frame      1.9    19.0    3.0M   \n",
       "\n",
       "         Size Installs Type     Price Content Rating             Genres  \\\n",
       "10472  1,000+     Free    0  Everyone            NaN  February 11, 2018   \n",
       "\n",
       "      Last Updated Current Ver Android Ver  \n",
       "10472       1.0.19  4.0 and up         NaN  "
      ]
     },
     "execution_count": 22,
     "metadata": {},
     "output_type": "execute_result"
    }
   ],
   "source": [
    "df[df['Reviews']=='3.0M']"
   ]
  },
  {
   "cell_type": "code",
   "execution_count": 23,
   "id": "eee9524b",
   "metadata": {},
   "outputs": [],
   "source": [
    "df['Reviews']=df['Reviews'].replace('3.0M','3.0')"
   ]
  },
  {
   "cell_type": "code",
   "execution_count": 24,
   "id": "d1340a76",
   "metadata": {},
   "outputs": [],
   "source": [
    "df['Reviews']=df['Reviews'].astype(\"float\")"
   ]
  },
  {
   "cell_type": "code",
   "execution_count": 25,
   "id": "a2ea4254",
   "metadata": {},
   "outputs": [
    {
     "data": {
      "text/plain": [
       "dtype('float64')"
      ]
     },
     "execution_count": 25,
     "metadata": {},
     "output_type": "execute_result"
    }
   ],
   "source": [
    "df['Reviews'].dtype"
   ]
  },
  {
   "cell_type": "code",
   "execution_count": 26,
   "id": "ac19a4de",
   "metadata": {},
   "outputs": [
    {
     "data": {
      "text/plain": [
       "444111.9265750392"
      ]
     },
     "execution_count": 26,
     "metadata": {},
     "output_type": "execute_result"
    }
   ],
   "source": [
    "df['Reviews'].mean()"
   ]
  },
  {
   "cell_type": "markdown",
   "id": "5cb775f0",
   "metadata": {},
   "source": [
    "12. Find Total Number of Free and Paid Apps\n",
    "13.  Which App Has Maximum Reviews?\n",
    "14. Display Top 5 Apps Having Highest Reviews\n",
    "15. Find Average Rating of Free and Paid Apps\n",
    "16. Display Top  5 Apps Having Maximum Installs\n"
   ]
  },
  {
   "cell_type": "code",
   "execution_count": 27,
   "id": "38ea3b62",
   "metadata": {},
   "outputs": [
    {
     "data": {
      "text/html": [
       "<div>\n",
       "<style scoped>\n",
       "    .dataframe tbody tr th:only-of-type {\n",
       "        vertical-align: middle;\n",
       "    }\n",
       "\n",
       "    .dataframe tbody tr th {\n",
       "        vertical-align: top;\n",
       "    }\n",
       "\n",
       "    .dataframe thead th {\n",
       "        text-align: right;\n",
       "    }\n",
       "</style>\n",
       "<table border=\"1\" class=\"dataframe\">\n",
       "  <thead>\n",
       "    <tr style=\"text-align: right;\">\n",
       "      <th></th>\n",
       "      <th>App</th>\n",
       "      <th>Category</th>\n",
       "      <th>Rating</th>\n",
       "      <th>Reviews</th>\n",
       "      <th>Size</th>\n",
       "      <th>Installs</th>\n",
       "      <th>Type</th>\n",
       "      <th>Price</th>\n",
       "      <th>Content Rating</th>\n",
       "      <th>Genres</th>\n",
       "      <th>Last Updated</th>\n",
       "      <th>Current Ver</th>\n",
       "      <th>Android Ver</th>\n",
       "    </tr>\n",
       "  </thead>\n",
       "  <tbody>\n",
       "    <tr>\n",
       "      <th>0</th>\n",
       "      <td>Photo Editor &amp; Candy Camera &amp; Grid &amp; ScrapBook</td>\n",
       "      <td>ART_AND_DESIGN</td>\n",
       "      <td>4.1</td>\n",
       "      <td>159.0</td>\n",
       "      <td>19M</td>\n",
       "      <td>10,000+</td>\n",
       "      <td>Free</td>\n",
       "      <td>0</td>\n",
       "      <td>Everyone</td>\n",
       "      <td>Art &amp; Design</td>\n",
       "      <td>January 7, 2018</td>\n",
       "      <td>1.0.0</td>\n",
       "      <td>4.0.3 and up</td>\n",
       "    </tr>\n",
       "  </tbody>\n",
       "</table>\n",
       "</div>"
      ],
      "text/plain": [
       "                                              App        Category  Rating  \\\n",
       "0  Photo Editor & Candy Camera & Grid & ScrapBook  ART_AND_DESIGN     4.1   \n",
       "\n",
       "   Reviews Size Installs  Type Price Content Rating        Genres  \\\n",
       "0    159.0  19M  10,000+  Free     0       Everyone  Art & Design   \n",
       "\n",
       "      Last Updated Current Ver   Android Ver  \n",
       "0  January 7, 2018       1.0.0  4.0.3 and up  "
      ]
     },
     "execution_count": 27,
     "metadata": {},
     "output_type": "execute_result"
    }
   ],
   "source": [
    "df.head(1)"
   ]
  },
  {
   "cell_type": "code",
   "execution_count": 28,
   "id": "cdbdc308",
   "metadata": {},
   "outputs": [
    {
     "data": {
      "text/plain": [
       "Free    10039\n",
       "Paid      800\n",
       "0           1\n",
       "Name: Type, dtype: int64"
      ]
     },
     "execution_count": 28,
     "metadata": {},
     "output_type": "execute_result"
    }
   ],
   "source": [
    "df['Type'].value_counts()"
   ]
  },
  {
   "cell_type": "code",
   "execution_count": 29,
   "id": "e3ef0c7f",
   "metadata": {},
   "outputs": [
    {
     "data": {
      "image/png": "[encoded data removed]",
      "text/plain": [
       "<Figure size 800x500 with 1 Axes>"
      ]
     },
     "metadata": {},
     "output_type": "display_data"
    }
   ],
   "source": [
    "plt.figure(figsize=(8,5))\n",
    "sns.countplot(x='Type',data=df)\n",
    "plt.show()"
   ]
  },
  {
   "cell_type": "code",
   "execution_count": 30,
   "id": "c1996039",
   "metadata": {},
   "outputs": [
    {
     "data": {
      "text/plain": [
       "2544    Facebook\n",
       "Name: App, dtype: object"
      ]
     },
     "execution_count": 30,
     "metadata": {},
     "output_type": "execute_result"
    }
   ],
   "source": [
    "df[df['Reviews'].max()==df['Reviews']]['App']"
   ]
  },
  {
   "cell_type": "code",
   "execution_count": 31,
   "id": "9e85fb4b",
   "metadata": {},
   "outputs": [
    {
     "data": {
      "text/plain": [
       "2544              Facebook\n",
       "3943              Facebook\n",
       "381     WhatsApp Messenger\n",
       "336     WhatsApp Messenger\n",
       "3904    WhatsApp Messenger\n",
       "Name: App, dtype: object"
      ]
     },
     "execution_count": 31,
     "metadata": {},
     "output_type": "execute_result"
    }
   ],
   "source": [
    "df.sort_values(by ='Reviews',ascending=False).head().App"
   ]
  },
  {
   "cell_type": "code",
   "execution_count": 32,
   "id": "702b3c5b",
   "metadata": {},
   "outputs": [],
   "source": [
    "top_5=df.sort_values(by ='Reviews',ascending=False).head()"
   ]
  },
  {
   "cell_type": "code",
   "execution_count": 33,
   "id": "1ab2b162",
   "metadata": {},
   "outputs": [
    {
     "data": {
      "image/png": "[encoded data removed]",
      "text/plain": [
       "<Figure size 640x480 with 1 Axes>"
      ]
     },
     "metadata": {},
     "output_type": "display_data"
    }
   ],
   "source": [
    "sns.barplot(y='Reviews',x='App',data=top_5)\n",
    "plt.show()"
   ]
  },
  {
   "cell_type": "code",
   "execution_count": 34,
   "id": "96033349",
   "metadata": {},
   "outputs": [
    {
     "data": {
      "text/plain": [
       "Type\n",
       "0       19.000000\n",
       "Free     4.186203\n",
       "Paid     4.266615\n",
       "Name: Rating, dtype: float64"
      ]
     },
     "execution_count": 34,
     "metadata": {},
     "output_type": "execute_result"
    }
   ],
   "source": [
    "df.groupby(\"Type\")[\"Rating\"].mean()"
   ]
  },
  {
   "cell_type": "code",
   "execution_count": 35,
   "id": "4494eca2",
   "metadata": {},
   "outputs": [
    {
     "data": {
      "text/plain": [
       "0        10,000+\n",
       "1       500,000+\n",
       "2     5,000,000+\n",
       "3    50,000,000+\n",
       "4       100,000+\n",
       "Name: Installs, dtype: object"
      ]
     },
     "execution_count": 35,
     "metadata": {},
     "output_type": "execute_result"
    }
   ],
   "source": [
    "df['Installs'].head()"
   ]
  },
  {
   "cell_type": "code",
   "execution_count": 36,
   "id": "7aae435e",
   "metadata": {},
   "outputs": [],
   "source": [
    "df['Installs_1']=df['Installs'].str.replace(r'[,+]','',regex=True)"
   ]
  },
  {
   "cell_type": "code",
   "execution_count": 37,
   "id": "8fa667b8",
   "metadata": {},
   "outputs": [
    {
     "data": {
      "text/html": [
       "<div>\n",
       "<style scoped>\n",
       "    .dataframe tbody tr th:only-of-type {\n",
       "        vertical-align: middle;\n",
       "    }\n",
       "\n",
       "    .dataframe tbody tr th {\n",
       "        vertical-align: top;\n",
       "    }\n",
       "\n",
       "    .dataframe thead th {\n",
       "        text-align: right;\n",
       "    }\n",
       "</style>\n",
       "<table border=\"1\" class=\"dataframe\">\n",
       "  <thead>\n",
       "    <tr style=\"text-align: right;\">\n",
       "      <th></th>\n",
       "      <th>App</th>\n",
       "      <th>Category</th>\n",
       "      <th>Rating</th>\n",
       "      <th>Reviews</th>\n",
       "      <th>Size</th>\n",
       "      <th>Installs</th>\n",
       "      <th>Type</th>\n",
       "      <th>Price</th>\n",
       "      <th>Content Rating</th>\n",
       "      <th>Genres</th>\n",
       "      <th>Last Updated</th>\n",
       "      <th>Current Ver</th>\n",
       "      <th>Android Ver</th>\n",
       "      <th>Installs_1</th>\n",
       "    </tr>\n",
       "  </thead>\n",
       "  <tbody>\n",
       "    <tr>\n",
       "      <th>0</th>\n",
       "      <td>Photo Editor &amp; Candy Camera &amp; Grid &amp; ScrapBook</td>\n",
       "      <td>ART_AND_DESIGN</td>\n",
       "      <td>4.1</td>\n",
       "      <td>159.0</td>\n",
       "      <td>19M</td>\n",
       "      <td>10,000+</td>\n",
       "      <td>Free</td>\n",
       "      <td>0</td>\n",
       "      <td>Everyone</td>\n",
       "      <td>Art &amp; Design</td>\n",
       "      <td>January 7, 2018</td>\n",
       "      <td>1.0.0</td>\n",
       "      <td>4.0.3 and up</td>\n",
       "      <td>10000</td>\n",
       "    </tr>\n",
       "  </tbody>\n",
       "</table>\n",
       "</div>"
      ],
      "text/plain": [
       "                                              App        Category  Rating  \\\n",
       "0  Photo Editor & Candy Camera & Grid & ScrapBook  ART_AND_DESIGN     4.1   \n",
       "\n",
       "   Reviews Size Installs  Type Price Content Rating        Genres  \\\n",
       "0    159.0  19M  10,000+  Free     0       Everyone  Art & Design   \n",
       "\n",
       "      Last Updated Current Ver   Android Ver Installs_1  \n",
       "0  January 7, 2018       1.0.0  4.0.3 and up      10000  "
      ]
     },
     "execution_count": 37,
     "metadata": {},
     "output_type": "execute_result"
    }
   ],
   "source": [
    "df.head(1)"
   ]
  },
  {
   "cell_type": "code",
   "execution_count": 38,
   "id": "c65cc7e6",
   "metadata": {},
   "outputs": [],
   "source": [
    "df['Installs_1']=df['Installs_1'].str.replace('+','',regex=False)"
   ]
  },
  {
   "cell_type": "code",
   "execution_count": 39,
   "id": "af16b499",
   "metadata": {},
   "outputs": [
    {
     "data": {
      "text/html": [
       "<div>\n",
       "<style scoped>\n",
       "    .dataframe tbody tr th:only-of-type {\n",
       "        vertical-align: middle;\n",
       "    }\n",
       "\n",
       "    .dataframe tbody tr th {\n",
       "        vertical-align: top;\n",
       "    }\n",
       "\n",
       "    .dataframe thead th {\n",
       "        text-align: right;\n",
       "    }\n",
       "</style>\n",
       "<table border=\"1\" class=\"dataframe\">\n",
       "  <thead>\n",
       "    <tr style=\"text-align: right;\">\n",
       "      <th></th>\n",
       "      <th>App</th>\n",
       "      <th>Category</th>\n",
       "      <th>Rating</th>\n",
       "      <th>Reviews</th>\n",
       "      <th>Size</th>\n",
       "      <th>Installs</th>\n",
       "      <th>Type</th>\n",
       "      <th>Price</th>\n",
       "      <th>Content Rating</th>\n",
       "      <th>Genres</th>\n",
       "      <th>Last Updated</th>\n",
       "      <th>Current Ver</th>\n",
       "      <th>Android Ver</th>\n",
       "      <th>Installs_1</th>\n",
       "    </tr>\n",
       "  </thead>\n",
       "  <tbody>\n",
       "    <tr>\n",
       "      <th>0</th>\n",
       "      <td>Photo Editor &amp; Candy Camera &amp; Grid &amp; ScrapBook</td>\n",
       "      <td>ART_AND_DESIGN</td>\n",
       "      <td>4.1</td>\n",
       "      <td>159.0</td>\n",
       "      <td>19M</td>\n",
       "      <td>10,000+</td>\n",
       "      <td>Free</td>\n",
       "      <td>0</td>\n",
       "      <td>Everyone</td>\n",
       "      <td>Art &amp; Design</td>\n",
       "      <td>January 7, 2018</td>\n",
       "      <td>1.0.0</td>\n",
       "      <td>4.0.3 and up</td>\n",
       "      <td>10000</td>\n",
       "    </tr>\n",
       "  </tbody>\n",
       "</table>\n",
       "</div>"
      ],
      "text/plain": [
       "                                              App        Category  Rating  \\\n",
       "0  Photo Editor & Candy Camera & Grid & ScrapBook  ART_AND_DESIGN     4.1   \n",
       "\n",
       "   Reviews Size Installs  Type Price Content Rating        Genres  \\\n",
       "0    159.0  19M  10,000+  Free     0       Everyone  Art & Design   \n",
       "\n",
       "      Last Updated Current Ver   Android Ver Installs_1  \n",
       "0  January 7, 2018       1.0.0  4.0.3 and up      10000  "
      ]
     },
     "execution_count": 39,
     "metadata": {},
     "output_type": "execute_result"
    }
   ],
   "source": [
    "df.head(1)"
   ]
  },
  {
   "cell_type": "code",
   "execution_count": 40,
   "id": "9630e45e",
   "metadata": {
    "scrolled": true
   },
   "outputs": [],
   "source": [
    "# df['Installs_1']=df['Installs_1'].astype(\"int\")"
   ]
  },
  {
   "cell_type": "code",
   "execution_count": 41,
   "id": "b2487115",
   "metadata": {},
   "outputs": [
    {
     "data": {
      "text/html": [
       "<div>\n",
       "<style scoped>\n",
       "    .dataframe tbody tr th:only-of-type {\n",
       "        vertical-align: middle;\n",
       "    }\n",
       "\n",
       "    .dataframe tbody tr th {\n",
       "        vertical-align: top;\n",
       "    }\n",
       "\n",
       "    .dataframe thead th {\n",
       "        text-align: right;\n",
       "    }\n",
       "</style>\n",
       "<table border=\"1\" class=\"dataframe\">\n",
       "  <thead>\n",
       "    <tr style=\"text-align: right;\">\n",
       "      <th></th>\n",
       "      <th>App</th>\n",
       "      <th>Category</th>\n",
       "      <th>Rating</th>\n",
       "      <th>Reviews</th>\n",
       "      <th>Size</th>\n",
       "      <th>Installs</th>\n",
       "      <th>Type</th>\n",
       "      <th>Price</th>\n",
       "      <th>Content Rating</th>\n",
       "      <th>Genres</th>\n",
       "      <th>Last Updated</th>\n",
       "      <th>Current Ver</th>\n",
       "      <th>Android Ver</th>\n",
       "      <th>Installs_1</th>\n",
       "    </tr>\n",
       "  </thead>\n",
       "  <tbody>\n",
       "    <tr>\n",
       "      <th>10472</th>\n",
       "      <td>Life Made WI-Fi Touchscreen Photo Frame</td>\n",
       "      <td>1.9</td>\n",
       "      <td>19.0</td>\n",
       "      <td>3.0</td>\n",
       "      <td>1,000+</td>\n",
       "      <td>Free</td>\n",
       "      <td>0</td>\n",
       "      <td>Everyone</td>\n",
       "      <td>NaN</td>\n",
       "      <td>February 11, 2018</td>\n",
       "      <td>1.0.19</td>\n",
       "      <td>4.0 and up</td>\n",
       "      <td>NaN</td>\n",
       "      <td>Free</td>\n",
       "    </tr>\n",
       "  </tbody>\n",
       "</table>\n",
       "</div>"
      ],
      "text/plain": [
       "                                           App Category  Rating  Reviews  \\\n",
       "10472  Life Made WI-Fi Touchscreen Photo Frame      1.9    19.0      3.0   \n",
       "\n",
       "         Size Installs Type     Price Content Rating             Genres  \\\n",
       "10472  1,000+     Free    0  Everyone            NaN  February 11, 2018   \n",
       "\n",
       "      Last Updated Current Ver Android Ver Installs_1  \n",
       "10472       1.0.19  4.0 and up         NaN       Free  "
      ]
     },
     "execution_count": 41,
     "metadata": {},
     "output_type": "execute_result"
    }
   ],
   "source": [
    "df[df['Installs_1']==\"Free\"]"
   ]
  },
  {
   "cell_type": "code",
   "execution_count": 42,
   "id": "d91f5044",
   "metadata": {},
   "outputs": [],
   "source": [
    "df['Installs_1']=df['Installs_1'].replace(\"Free\",'0')"
   ]
  },
  {
   "cell_type": "code",
   "execution_count": 43,
   "id": "104ee2a9",
   "metadata": {},
   "outputs": [],
   "source": [
    "df['Installs_1']=df['Installs_1'].astype(\"int\")"
   ]
  },
  {
   "cell_type": "code",
   "execution_count": 44,
   "id": "c0eea3ef",
   "metadata": {},
   "outputs": [
    {
     "data": {
      "text/plain": [
       "dtype('int32')"
      ]
     },
     "execution_count": 44,
     "metadata": {},
     "output_type": "execute_result"
    }
   ],
   "source": [
    "df['Installs_1'].dtype"
   ]
  },
  {
   "cell_type": "code",
   "execution_count": 45,
   "id": "3b31da46",
   "metadata": {
    "scrolled": true
   },
   "outputs": [
    {
     "data": {
      "text/plain": [
       "3896                              Subway Surfers\n",
       "3943                                    Facebook\n",
       "335     Messenger – Text and Video Chat for Free\n",
       "3523                                Google Drive\n",
       "3565                                Google Drive\n",
       "Name: App, dtype: object"
      ]
     },
     "execution_count": 45,
     "metadata": {},
     "output_type": "execute_result"
    }
   ],
   "source": [
    "df.sort_values(by ='Installs_1',ascending=False).head().App"
   ]
  },
  {
   "cell_type": "markdown",
   "id": "85c666b7-cc78-4dce-8b0a-de9c9bf06555",
   "metadata": {},
   "source": [
    "### Conclusion\n",
    "In conclusion, this project demonstrates the application of EDA techniques in Python for analyzing Google Play Store apps data. The insights gained can help understand app categories, user preferences, and data quality, enabling app developers and marketers to make informed decisions."
   ]
  },
  {
   "cell_type": "code",
   "execution_count": null,
   "id": "d396ebfb",
   "metadata": {},
   "outputs": [],
   "source": []
  }
 ],
 "metadata": {
  "kernelspec": {
   "display_name": "Python 3 (ipykernel)",
   "language": "python",
   "name": "python3"
  },
  "language_info": {
   "codemirror_mode": {
    "name": "ipython",
    "version": 3
   },
   "file_extension": ".py",
   "mimetype": "text/x-python",
   "name": "python",
   "nbconvert_exporter": "python",
   "pygments_lexer": "ipython3",
   "version": "3.10.9"
  }
 },
 "nbformat": 4,
 "nbformat_minor": 5
}
